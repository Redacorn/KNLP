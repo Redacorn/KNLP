{
 "cells": [
  {
   "cell_type": "code",
   "execution_count": null,
   "metadata": {
    "vscode": {
     "languageId": "plaintext"
    }
   },
   "outputs": [],
   "source": [
    "# 필수 패키지 설치\n",
    "!pip install pandas openpyxl\n",
    "\n",
    "# pandas 패키지 불러옴\n",
    "import pandas as pd\n",
    "\n",
    "# 데이터 파일 경로 설정\n",
    "file_path = r\"C:\\Users\\chara\\OneDrive - ktl.re.kr\\temp\\KNLP\\KNLP\\한국어평가_최종데이터취합.xlsx\"\n",
    "\n",
    "# Excel 파일 불러옴\n",
    "data = pd.ExcelFile(file_path)\n",
    "\n",
    "# 시트 이름 출력\n",
    "print(\"Available sheets:\", data.sheet_names)\n",
    "\n",
    "# \"문법 결과\" 시트 불러옴\n",
    "df = data.parse('문법 결과')\n",
    "\n",
    "# 데이터 첫 몇 행 출력\n",
    "print(\"First few rows of the data:\")\n",
    "print(df.head())\n"
   ]
  },
  {
   "cell_type": "code",
   "execution_count": null,
   "metadata": {
    "vscode": {
     "languageId": "plaintext"
    }
   },
   "outputs": [],
   "source": []
  }
 ],
 "metadata": {
  "language_info": {
   "name": "python"
  }
 },
 "nbformat": 4,
 "nbformat_minor": 2
}

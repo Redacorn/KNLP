{
 "cells": [
  {
   "cell_type": "code",
   "execution_count": null,
   "metadata": {
    "vscode": {
     "languageId": "plaintext"
    }
   },
   "outputs": [],
   "source": [
    "# 필수 패키지 설치\n",
    "!pip install pandas openpyxl\n",
    "\n",
    "# pandas 패키지 불러옴\n",
    "import pandas as pd\n",
    "\n",
    "# 데이터 파일 상대 경로 설정\n",
    "file_path = \"./한국어평가_최종데이터취합.xlsx\"\n",
    "\n",
    "# Excel 파일 불러옴\n",
    "data = pd.ExcelFile(file_path)\n",
    "\n",
    "# 시트 이름 출력\n",
    "print(\"Available sheets:\", data.sheet_names)\n",
    "\n",
    "# \"문법 결과\" 시트 불러옴\n",
    "df = data.parse('문법 결과')\n",
    "\n",
    "# 데이터 첫 몇 행 출력\n",
    "print(\"First few rows of the data:\")\n",
    "print(df.head())"
   ]
  },
  {
   "cell_type": "code",
   "execution_count": null,
   "metadata": {
    "vscode": {
     "languageId": "plaintext"
    }
   },
   "outputs": [],
   "source": [
    "# 데이터 전반적 내용 확인\n",
    "import pandas as pd\n",
    "\n",
    "# 데이터 구조 및 기본 정보 출력\n",
    "print(\"1. 데이터 기본 정보\")\n",
    "print(df.info())\n",
    "\n",
    "print(\"\\n2. 데이터 통계 요약\")\n",
    "print(df.describe(include='all'))  # 숫자형, 범주형 모두 포함\n",
    "\n",
    "# 결측치 분석\n",
    "print(\"\\n3. 결측치 확인\")\n",
    "missing_values = df.isnull().sum()\n",
    "print(missing_values[missing_values > 0])\n",
    "\n",
    "# 중복 데이터 확인\n",
    "print(\"\\n4. 중복 데이터 개수\")\n",
    "duplicate_count = df.duplicated().sum()\n",
    "print(f\"중복 데이터 개수: {duplicate_count}\")\n",
    "\n",
    "# 각 열의 고유값 확인 (범주형 데이터 탐색)\n",
    "print(\"\\n5. 각 열의 고유값 개수\")\n",
    "for column in df.columns:\n",
    "    unique_values = df[column].nunique()\n",
    "    print(f\"{column}: {unique_values}개 고유값\")\n",
    "\n",
    "# 범주형 데이터 분포 시각화\n",
    "import matplotlib.pyplot as plt\n",
    "\n",
    "print(\"\\n6. 범주형 데이터 분포 시각화\")\n",
    "categorical_columns = df.select_dtypes(include='object').columns\n",
    "for column in categorical_columns:\n",
    "    plt.figure(figsize=(10, 5))\n",
    "    df[column].value_counts().plot(kind='bar', title=f\"{column} 분포\", rot=45)\n",
    "    plt.show()\n",
    "\n",
    "# 상관관계 분석\n",
    "print(\"\\n7. 숫자형 데이터 상관관계\")\n",
    "correlation_matrix = df.corr()\n",
    "print(correlation_matrix)\n",
    "\n",
    "# 상관관계 히트맵 시각화\n",
    "import seaborn as sns\n",
    "\n",
    "plt.figure(figsize=(10, 8))\n",
    "sns.heatmap(correlation_matrix, annot=True, cmap='coolwarm')\n",
    "plt.title(\"상관관계 히트맵\")\n",
    "plt.show()\n",
    "\n",
    "# 데이터 샘플 확인\n",
    "print(\"\\n8. 데이터 샘플\")\n",
    "print(df.sample(5))\n"
   ]
  }
 ],
 "metadata": {
  "language_info": {
   "name": "python"
  }
 },
 "nbformat": 4,
 "nbformat_minor": 2
}
